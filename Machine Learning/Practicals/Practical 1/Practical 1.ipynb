{
 "cells": [
  {
   "cell_type": "code",
   "execution_count": 1,
   "id": "6f621e91",
   "metadata": {},
   "outputs": [],
   "source": [
    "# Predict the price of the Uber ride from a given pickup point to the agreed drop-off location.\n",
    "# Perform following tasks:\n",
    "# 1. Pre-process the dataset.\n",
    "# 2. Identify outliers.\n",
    "# 3. Check the correlation.\n",
    "# 4. Implement linear regression and random forest regression models.\n",
    "# 5. Evaluate the models and compare their respective scores like R2, RMSE, etc.\n",
    "# Dataset link: https://www.kaggle.com/datasets/yasserh/uber-fares-dataset"
   ]
  },
  {
   "cell_type": "code",
   "execution_count": 60,
   "id": "13865b53",
   "metadata": {},
   "outputs": [],
   "source": [
    "import pandas as pd\n",
    "from sklearn.preprocessing import StandardScaler\n",
    "import matplotlib.pyplot as plt\n",
    "import seaborn as sb\n",
    "\n",
    "\n",
    "dataset = pd.read_csv('uber.csv')\n"
   ]
  },
  {
   "cell_type": "code",
   "execution_count": 20,
   "id": "c67cde81",
   "metadata": {},
   "outputs": [
    {
     "data": {
      "text/html": [
       "<div>\n",
       "<style scoped>\n",
       "    .dataframe tbody tr th:only-of-type {\n",
       "        vertical-align: middle;\n",
       "    }\n",
       "\n",
       "    .dataframe tbody tr th {\n",
       "        vertical-align: top;\n",
       "    }\n",
       "\n",
       "    .dataframe thead th {\n",
       "        text-align: right;\n",
       "    }\n",
       "</style>\n",
       "<table border=\"1\" class=\"dataframe\">\n",
       "  <thead>\n",
       "    <tr style=\"text-align: right;\">\n",
       "      <th></th>\n",
       "      <th>Unnamed: 0</th>\n",
       "      <th>key</th>\n",
       "      <th>fare_amount</th>\n",
       "      <th>pickup_datetime</th>\n",
       "      <th>pickup_longitude</th>\n",
       "      <th>pickup_latitude</th>\n",
       "      <th>dropoff_longitude</th>\n",
       "      <th>dropoff_latitude</th>\n",
       "      <th>passenger_count</th>\n",
       "    </tr>\n",
       "  </thead>\n",
       "  <tbody>\n",
       "    <tr>\n",
       "      <th>0</th>\n",
       "      <td>24238194</td>\n",
       "      <td>2015-05-07 19:52:06.0000003</td>\n",
       "      <td>7.5</td>\n",
       "      <td>2015-05-07 19:52:06 UTC</td>\n",
       "      <td>-73.999817</td>\n",
       "      <td>40.738354</td>\n",
       "      <td>-73.999512</td>\n",
       "      <td>40.723217</td>\n",
       "      <td>1</td>\n",
       "    </tr>\n",
       "    <tr>\n",
       "      <th>1</th>\n",
       "      <td>27835199</td>\n",
       "      <td>2009-07-17 20:04:56.0000002</td>\n",
       "      <td>7.7</td>\n",
       "      <td>2009-07-17 20:04:56 UTC</td>\n",
       "      <td>-73.994355</td>\n",
       "      <td>40.728225</td>\n",
       "      <td>-73.994710</td>\n",
       "      <td>40.750325</td>\n",
       "      <td>1</td>\n",
       "    </tr>\n",
       "    <tr>\n",
       "      <th>2</th>\n",
       "      <td>44984355</td>\n",
       "      <td>2009-08-24 21:45:00.00000061</td>\n",
       "      <td>12.9</td>\n",
       "      <td>2009-08-24 21:45:00 UTC</td>\n",
       "      <td>-74.005043</td>\n",
       "      <td>40.740770</td>\n",
       "      <td>-73.962565</td>\n",
       "      <td>40.772647</td>\n",
       "      <td>1</td>\n",
       "    </tr>\n",
       "    <tr>\n",
       "      <th>3</th>\n",
       "      <td>25894730</td>\n",
       "      <td>2009-06-26 08:22:21.0000001</td>\n",
       "      <td>5.3</td>\n",
       "      <td>2009-06-26 08:22:21 UTC</td>\n",
       "      <td>-73.976124</td>\n",
       "      <td>40.790844</td>\n",
       "      <td>-73.965316</td>\n",
       "      <td>40.803349</td>\n",
       "      <td>3</td>\n",
       "    </tr>\n",
       "    <tr>\n",
       "      <th>4</th>\n",
       "      <td>17610152</td>\n",
       "      <td>2014-08-28 17:47:00.000000188</td>\n",
       "      <td>16.0</td>\n",
       "      <td>2014-08-28 17:47:00 UTC</td>\n",
       "      <td>-73.925023</td>\n",
       "      <td>40.744085</td>\n",
       "      <td>-73.973082</td>\n",
       "      <td>40.761247</td>\n",
       "      <td>5</td>\n",
       "    </tr>\n",
       "  </tbody>\n",
       "</table>\n",
       "</div>"
      ],
      "text/plain": [
       "   Unnamed: 0                            key  fare_amount  \\\n",
       "0    24238194    2015-05-07 19:52:06.0000003          7.5   \n",
       "1    27835199    2009-07-17 20:04:56.0000002          7.7   \n",
       "2    44984355   2009-08-24 21:45:00.00000061         12.9   \n",
       "3    25894730    2009-06-26 08:22:21.0000001          5.3   \n",
       "4    17610152  2014-08-28 17:47:00.000000188         16.0   \n",
       "\n",
       "           pickup_datetime  pickup_longitude  pickup_latitude  \\\n",
       "0  2015-05-07 19:52:06 UTC        -73.999817        40.738354   \n",
       "1  2009-07-17 20:04:56 UTC        -73.994355        40.728225   \n",
       "2  2009-08-24 21:45:00 UTC        -74.005043        40.740770   \n",
       "3  2009-06-26 08:22:21 UTC        -73.976124        40.790844   \n",
       "4  2014-08-28 17:47:00 UTC        -73.925023        40.744085   \n",
       "\n",
       "   dropoff_longitude  dropoff_latitude  passenger_count  \n",
       "0         -73.999512         40.723217                1  \n",
       "1         -73.994710         40.750325                1  \n",
       "2         -73.962565         40.772647                1  \n",
       "3         -73.965316         40.803349                3  \n",
       "4         -73.973082         40.761247                5  "
      ]
     },
     "execution_count": 20,
     "metadata": {},
     "output_type": "execute_result"
    }
   ],
   "source": [
    "dataset.head()"
   ]
  },
  {
   "cell_type": "code",
   "execution_count": 21,
   "id": "409b976b",
   "metadata": {},
   "outputs": [
    {
     "data": {
      "text/plain": [
       "Unnamed: 0           0\n",
       "key                  0\n",
       "fare_amount          0\n",
       "pickup_datetime      0\n",
       "pickup_longitude     0\n",
       "pickup_latitude      0\n",
       "dropoff_longitude    1\n",
       "dropoff_latitude     1\n",
       "passenger_count      0\n",
       "dtype: int64"
      ]
     },
     "execution_count": 21,
     "metadata": {},
     "output_type": "execute_result"
    }
   ],
   "source": [
    "dataset.isna().sum()"
   ]
  },
  {
   "cell_type": "code",
   "execution_count": 22,
   "id": "38a32d02",
   "metadata": {},
   "outputs": [
    {
     "name": "stdout",
     "output_type": "stream",
     "text": [
      "<class 'pandas.core.frame.DataFrame'>\n",
      "RangeIndex: 200000 entries, 0 to 199999\n",
      "Data columns (total 9 columns):\n",
      " #   Column             Non-Null Count   Dtype  \n",
      "---  ------             --------------   -----  \n",
      " 0   Unnamed: 0         200000 non-null  int64  \n",
      " 1   key                200000 non-null  object \n",
      " 2   fare_amount        200000 non-null  float64\n",
      " 3   pickup_datetime    200000 non-null  object \n",
      " 4   pickup_longitude   200000 non-null  float64\n",
      " 5   pickup_latitude    200000 non-null  float64\n",
      " 6   dropoff_longitude  199999 non-null  float64\n",
      " 7   dropoff_latitude   199999 non-null  float64\n",
      " 8   passenger_count    200000 non-null  int64  \n",
      "dtypes: float64(5), int64(2), object(2)\n",
      "memory usage: 13.7+ MB\n"
     ]
    }
   ],
   "source": [
    "dataset.info()"
   ]
  },
  {
   "cell_type": "code",
   "execution_count": 23,
   "id": "ccc6fba5",
   "metadata": {},
   "outputs": [],
   "source": [
    "def replacer(df):\n",
    "    import pandas as pd\n",
    "    Q = pd.DataFrame(df.isna().sum(),columns=[\"CT\"])\n",
    "    W = Q[Q.CT > 0].index\n",
    "    for i in W:\n",
    "        if(df[i].dtypes == \"object\"):\n",
    "            x = df[i].mode()[0]\n",
    "            df[i] = df[i].fillna(x)\n",
    "        else:\n",
    "            x = df[i].mean()\n",
    "            df[i] = df[i].fillna(x)"
   ]
  },
  {
   "cell_type": "code",
   "execution_count": 24,
   "id": "16937218",
   "metadata": {},
   "outputs": [],
   "source": [
    "replacer(dataset)"
   ]
  },
  {
   "cell_type": "code",
   "execution_count": 25,
   "id": "aca4384b",
   "metadata": {},
   "outputs": [
    {
     "data": {
      "text/plain": [
       "Unnamed: 0           0\n",
       "key                  0\n",
       "fare_amount          0\n",
       "pickup_datetime      0\n",
       "pickup_longitude     0\n",
       "pickup_latitude      0\n",
       "dropoff_longitude    0\n",
       "dropoff_latitude     0\n",
       "passenger_count      0\n",
       "dtype: int64"
      ]
     },
     "execution_count": 25,
     "metadata": {},
     "output_type": "execute_result"
    }
   ],
   "source": [
    "dataset.isna().sum()"
   ]
  },
  {
   "cell_type": "code",
   "execution_count": 26,
   "id": "a328de47",
   "metadata": {},
   "outputs": [],
   "source": [
    "def outliers(A,ft):\n",
    "    Q1 = A[ft].quantile(0.25)\n",
    "    Q3 = A[ft].quantile(0.75)\n",
    "    IQR = Q3 - Q1\n",
    "    lower_bound = Q1 - 1.5 * IQR\n",
    "    upper_bound = Q3 + 1.5 * IQR\n",
    "    ls = A.index[ (A[ft] < lower_bound) | (A[ft] > upper_bound) ]\n",
    "    return ls"
   ]
  },
  {
   "cell_type": "code",
   "execution_count": 27,
   "id": "8fd2cb7a",
   "metadata": {},
   "outputs": [
    {
     "data": {
      "text/plain": [
       "Index(['Unnamed: 0', 'key', 'fare_amount', 'pickup_datetime',\n",
       "       'pickup_longitude', 'pickup_latitude', 'dropoff_longitude',\n",
       "       'dropoff_latitude', 'passenger_count'],\n",
       "      dtype='object')"
      ]
     },
     "execution_count": 27,
     "metadata": {},
     "output_type": "execute_result"
    }
   ],
   "source": [
    "dataset.columns"
   ]
  },
  {
   "cell_type": "code",
   "execution_count": 28,
   "id": "c202ccab",
   "metadata": {},
   "outputs": [],
   "source": [
    "A = dataset.head(50)"
   ]
  },
  {
   "cell_type": "code",
   "execution_count": 63,
   "id": "4bd07d14",
   "metadata": {},
   "outputs": [],
   "source": [
    "Y = A[[\"fare_amount\"]]\n",
    "X = A.drop(labels=[\"fare_amount\"],axis=1)"
   ]
  },
  {
   "cell_type": "code",
   "execution_count": null,
   "id": "a9b3fde2",
   "metadata": {},
   "outputs": [],
   "source": []
  },
  {
   "cell_type": "code",
   "execution_count": 65,
   "id": "19dd2497",
   "metadata": {},
   "outputs": [],
   "source": [
    "cat = []\n",
    "con = []\n",
    "for i in X.columns:\n",
    "    if(X[i].dtypes == \"object\"):\n",
    "        cat.append(i)\n",
    "    else:\n",
    "        con.append(i)\n",
    "X1 = pd.get_dummies(X[cat])\n",
    "ss = StandardScaler()\n",
    "X2 = pd.DataFrame(ss.fit_transform(X[con]),columns=con)\n",
    "X3 = X2.join(X1)\n"
   ]
  },
  {
   "cell_type": "code",
   "execution_count": 66,
   "id": "d65eb830",
   "metadata": {},
   "outputs": [],
   "source": [
    "xnew = pd.DataFrame(X3)"
   ]
  },
  {
   "cell_type": "code",
   "execution_count": 67,
   "id": "eae1c5bc",
   "metadata": {},
   "outputs": [],
   "source": [
    "index_list = []\n",
    "\n",
    "for i in con:\n",
    "    index_list.extend(outliers(X3,i))\n"
   ]
  },
  {
   "cell_type": "code",
   "execution_count": 69,
   "id": "efe149f4",
   "metadata": {},
   "outputs": [
    {
     "data": {
      "image/png": "[encoded data removed]",
      "text/plain": [
       "<Figure size 640x480 with 1 Axes>"
      ]
     },
     "metadata": {},
     "output_type": "display_data"
    }
   ],
   "source": [
    "def plot_boxplot(xnew,ft):\n",
    "    xnew.boxplot(column =[ft])\n",
    "    plt.grid(False)\n",
    "    plt.show()\n",
    "\n",
    "plot_boxplot(xnew,'Unnamed: 0')\n",
    "\n",
    "# fare_amount\n",
    "# xnew"
   ]
  },
  {
   "cell_type": "code",
   "execution_count": 70,
   "id": "cb8365c1",
   "metadata": {},
   "outputs": [
    {
     "data": {
      "text/html": [
       "<div>\n",
       "<style scoped>\n",
       "    .dataframe tbody tr th:only-of-type {\n",
       "        vertical-align: middle;\n",
       "    }\n",
       "\n",
       "    .dataframe tbody tr th {\n",
       "        vertical-align: top;\n",
       "    }\n",
       "\n",
       "    .dataframe thead th {\n",
       "        text-align: right;\n",
       "    }\n",
       "</style>\n",
       "<table border=\"1\" class=\"dataframe\">\n",
       "  <thead>\n",
       "    <tr style=\"text-align: right;\">\n",
       "      <th></th>\n",
       "      <th>Unnamed: 0</th>\n",
       "      <th>pickup_longitude</th>\n",
       "      <th>pickup_latitude</th>\n",
       "      <th>dropoff_longitude</th>\n",
       "      <th>dropoff_latitude</th>\n",
       "      <th>passenger_count</th>\n",
       "      <th>key_2009-01-10 22:43:36.0000007</th>\n",
       "      <th>key_2009-02-12 17:52:18.0000001</th>\n",
       "      <th>key_2009-02-19 08:28:42.0000001</th>\n",
       "      <th>key_2009-02-28 15:54:57.0000002</th>\n",
       "      <th>...</th>\n",
       "      <th>pickup_datetime_2014-02-18 14:26:00 UTC</th>\n",
       "      <th>pickup_datetime_2014-04-02 14:58:32 UTC</th>\n",
       "      <th>pickup_datetime_2014-06-04 06:49:00 UTC</th>\n",
       "      <th>pickup_datetime_2014-08-28 17:47:00 UTC</th>\n",
       "      <th>pickup_datetime_2014-10-12 07:04:00 UTC</th>\n",
       "      <th>pickup_datetime_2015-01-04 09:17:47 UTC</th>\n",
       "      <th>pickup_datetime_2015-03-03 23:15:03 UTC</th>\n",
       "      <th>pickup_datetime_2015-03-25 08:58:35 UTC</th>\n",
       "      <th>pickup_datetime_2015-05-07 19:52:06 UTC</th>\n",
       "      <th>pickup_datetime_2015-05-22 17:32:27 UTC</th>\n",
       "    </tr>\n",
       "  </thead>\n",
       "  <tbody>\n",
       "    <tr>\n",
       "      <th>Unnamed: 0</th>\n",
       "      <td>1.000000</td>\n",
       "      <td>-0.065195</td>\n",
       "      <td>0.065876</td>\n",
       "      <td>-0.064761</td>\n",
       "      <td>0.065955</td>\n",
       "      <td>0.045267</td>\n",
       "      <td>-0.237150</td>\n",
       "      <td>0.172913</td>\n",
       "      <td>0.100186</td>\n",
       "      <td>-0.167393</td>\n",
       "      <td>...</td>\n",
       "      <td>0.224500</td>\n",
       "      <td>-0.123847</td>\n",
       "      <td>-0.100028</td>\n",
       "      <td>-0.115141</td>\n",
       "      <td>0.166859</td>\n",
       "      <td>-0.078118</td>\n",
       "      <td>-0.185530</td>\n",
       "      <td>0.170916</td>\n",
       "      <td>-0.055072</td>\n",
       "      <td>-0.254756</td>\n",
       "    </tr>\n",
       "    <tr>\n",
       "      <th>pickup_longitude</th>\n",
       "      <td>-0.065195</td>\n",
       "      <td>1.000000</td>\n",
       "      <td>-0.999993</td>\n",
       "      <td>0.999998</td>\n",
       "      <td>-0.999993</td>\n",
       "      <td>-0.116590</td>\n",
       "      <td>-0.029329</td>\n",
       "      <td>-0.029249</td>\n",
       "      <td>-0.029161</td>\n",
       "      <td>-0.029427</td>\n",
       "      <td>...</td>\n",
       "      <td>-0.029189</td>\n",
       "      <td>-0.029092</td>\n",
       "      <td>-0.027298</td>\n",
       "      <td>-0.028647</td>\n",
       "      <td>-0.029006</td>\n",
       "      <td>-0.029184</td>\n",
       "      <td>-0.029280</td>\n",
       "      <td>-0.029017</td>\n",
       "      <td>-0.029384</td>\n",
       "      <td>-0.029134</td>\n",
       "    </tr>\n",
       "    <tr>\n",
       "      <th>pickup_latitude</th>\n",
       "      <td>0.065876</td>\n",
       "      <td>-0.999993</td>\n",
       "      <td>1.000000</td>\n",
       "      <td>-0.999994</td>\n",
       "      <td>0.999993</td>\n",
       "      <td>0.117633</td>\n",
       "      <td>0.029144</td>\n",
       "      <td>0.029250</td>\n",
       "      <td>0.029645</td>\n",
       "      <td>0.028459</td>\n",
       "      <td>...</td>\n",
       "      <td>0.029050</td>\n",
       "      <td>0.029390</td>\n",
       "      <td>0.027193</td>\n",
       "      <td>0.029016</td>\n",
       "      <td>0.028119</td>\n",
       "      <td>0.028716</td>\n",
       "      <td>0.028749</td>\n",
       "      <td>0.029429</td>\n",
       "      <td>0.028913</td>\n",
       "      <td>0.029067</td>\n",
       "    </tr>\n",
       "    <tr>\n",
       "      <th>dropoff_longitude</th>\n",
       "      <td>-0.064761</td>\n",
       "      <td>0.999998</td>\n",
       "      <td>-0.999994</td>\n",
       "      <td>1.000000</td>\n",
       "      <td>-0.999991</td>\n",
       "      <td>-0.116820</td>\n",
       "      <td>-0.029392</td>\n",
       "      <td>-0.029174</td>\n",
       "      <td>-0.029118</td>\n",
       "      <td>-0.029294</td>\n",
       "      <td>...</td>\n",
       "      <td>-0.029443</td>\n",
       "      <td>-0.029042</td>\n",
       "      <td>-0.028079</td>\n",
       "      <td>-0.029144</td>\n",
       "      <td>-0.028140</td>\n",
       "      <td>-0.029260</td>\n",
       "      <td>-0.029284</td>\n",
       "      <td>-0.029157</td>\n",
       "      <td>-0.029404</td>\n",
       "      <td>-0.029296</td>\n",
       "    </tr>\n",
       "    <tr>\n",
       "      <th>dropoff_latitude</th>\n",
       "      <td>0.065955</td>\n",
       "      <td>-0.999993</td>\n",
       "      <td>0.999993</td>\n",
       "      <td>-0.999991</td>\n",
       "      <td>1.000000</td>\n",
       "      <td>0.117627</td>\n",
       "      <td>0.028946</td>\n",
       "      <td>0.029594</td>\n",
       "      <td>0.029189</td>\n",
       "      <td>0.028601</td>\n",
       "      <td>...</td>\n",
       "      <td>0.029220</td>\n",
       "      <td>0.029490</td>\n",
       "      <td>0.028617</td>\n",
       "      <td>0.029248</td>\n",
       "      <td>0.029481</td>\n",
       "      <td>0.029237</td>\n",
       "      <td>0.028521</td>\n",
       "      <td>0.029116</td>\n",
       "      <td>0.028568</td>\n",
       "      <td>0.028686</td>\n",
       "    </tr>\n",
       "    <tr>\n",
       "      <th>...</th>\n",
       "      <td>...</td>\n",
       "      <td>...</td>\n",
       "      <td>...</td>\n",
       "      <td>...</td>\n",
       "      <td>...</td>\n",
       "      <td>...</td>\n",
       "      <td>...</td>\n",
       "      <td>...</td>\n",
       "      <td>...</td>\n",
       "      <td>...</td>\n",
       "      <td>...</td>\n",
       "      <td>...</td>\n",
       "      <td>...</td>\n",
       "      <td>...</td>\n",
       "      <td>...</td>\n",
       "      <td>...</td>\n",
       "      <td>...</td>\n",
       "      <td>...</td>\n",
       "      <td>...</td>\n",
       "      <td>...</td>\n",
       "      <td>...</td>\n",
       "    </tr>\n",
       "    <tr>\n",
       "      <th>pickup_datetime_2015-01-04 09:17:47 UTC</th>\n",
       "      <td>-0.078118</td>\n",
       "      <td>-0.029184</td>\n",
       "      <td>0.028716</td>\n",
       "      <td>-0.029260</td>\n",
       "      <td>0.029237</td>\n",
       "      <td>-0.082251</td>\n",
       "      <td>-0.020408</td>\n",
       "      <td>-0.020408</td>\n",
       "      <td>-0.020408</td>\n",
       "      <td>-0.020408</td>\n",
       "      <td>...</td>\n",
       "      <td>-0.020408</td>\n",
       "      <td>-0.020408</td>\n",
       "      <td>-0.020408</td>\n",
       "      <td>-0.020408</td>\n",
       "      <td>-0.020408</td>\n",
       "      <td>1.000000</td>\n",
       "      <td>-0.020408</td>\n",
       "      <td>-0.020408</td>\n",
       "      <td>-0.020408</td>\n",
       "      <td>-0.020408</td>\n",
       "    </tr>\n",
       "    <tr>\n",
       "      <th>pickup_datetime_2015-03-03 23:15:03 UTC</th>\n",
       "      <td>-0.185530</td>\n",
       "      <td>-0.029280</td>\n",
       "      <td>0.028749</td>\n",
       "      <td>-0.029284</td>\n",
       "      <td>0.028521</td>\n",
       "      <td>0.025974</td>\n",
       "      <td>-0.020408</td>\n",
       "      <td>-0.020408</td>\n",
       "      <td>-0.020408</td>\n",
       "      <td>-0.020408</td>\n",
       "      <td>...</td>\n",
       "      <td>-0.020408</td>\n",
       "      <td>-0.020408</td>\n",
       "      <td>-0.020408</td>\n",
       "      <td>-0.020408</td>\n",
       "      <td>-0.020408</td>\n",
       "      <td>-0.020408</td>\n",
       "      <td>1.000000</td>\n",
       "      <td>-0.020408</td>\n",
       "      <td>-0.020408</td>\n",
       "      <td>-0.020408</td>\n",
       "    </tr>\n",
       "    <tr>\n",
       "      <th>pickup_datetime_2015-03-25 08:58:35 UTC</th>\n",
       "      <td>0.170916</td>\n",
       "      <td>-0.029017</td>\n",
       "      <td>0.029429</td>\n",
       "      <td>-0.029157</td>\n",
       "      <td>0.029116</td>\n",
       "      <td>-0.082251</td>\n",
       "      <td>-0.020408</td>\n",
       "      <td>-0.020408</td>\n",
       "      <td>-0.020408</td>\n",
       "      <td>-0.020408</td>\n",
       "      <td>...</td>\n",
       "      <td>-0.020408</td>\n",
       "      <td>-0.020408</td>\n",
       "      <td>-0.020408</td>\n",
       "      <td>-0.020408</td>\n",
       "      <td>-0.020408</td>\n",
       "      <td>-0.020408</td>\n",
       "      <td>-0.020408</td>\n",
       "      <td>1.000000</td>\n",
       "      <td>-0.020408</td>\n",
       "      <td>-0.020408</td>\n",
       "    </tr>\n",
       "    <tr>\n",
       "      <th>pickup_datetime_2015-05-07 19:52:06 UTC</th>\n",
       "      <td>-0.055072</td>\n",
       "      <td>-0.029384</td>\n",
       "      <td>0.028913</td>\n",
       "      <td>-0.029404</td>\n",
       "      <td>0.028568</td>\n",
       "      <td>-0.082251</td>\n",
       "      <td>-0.020408</td>\n",
       "      <td>-0.020408</td>\n",
       "      <td>-0.020408</td>\n",
       "      <td>-0.020408</td>\n",
       "      <td>...</td>\n",
       "      <td>-0.020408</td>\n",
       "      <td>-0.020408</td>\n",
       "      <td>-0.020408</td>\n",
       "      <td>-0.020408</td>\n",
       "      <td>-0.020408</td>\n",
       "      <td>-0.020408</td>\n",
       "      <td>-0.020408</td>\n",
       "      <td>-0.020408</td>\n",
       "      <td>1.000000</td>\n",
       "      <td>-0.020408</td>\n",
       "    </tr>\n",
       "    <tr>\n",
       "      <th>pickup_datetime_2015-05-22 17:32:27 UTC</th>\n",
       "      <td>-0.254756</td>\n",
       "      <td>-0.029134</td>\n",
       "      <td>0.029067</td>\n",
       "      <td>-0.029296</td>\n",
       "      <td>0.028686</td>\n",
       "      <td>-0.082251</td>\n",
       "      <td>-0.020408</td>\n",
       "      <td>-0.020408</td>\n",
       "      <td>-0.020408</td>\n",
       "      <td>-0.020408</td>\n",
       "      <td>...</td>\n",
       "      <td>-0.020408</td>\n",
       "      <td>-0.020408</td>\n",
       "      <td>-0.020408</td>\n",
       "      <td>-0.020408</td>\n",
       "      <td>-0.020408</td>\n",
       "      <td>-0.020408</td>\n",
       "      <td>-0.020408</td>\n",
       "      <td>-0.020408</td>\n",
       "      <td>-0.020408</td>\n",
       "      <td>1.000000</td>\n",
       "    </tr>\n",
       "  </tbody>\n",
       "</table>\n",
       "<p>106 rows × 106 columns</p>\n",
       "</div>"
      ],
      "text/plain": [
       "                                         Unnamed: 0  pickup_longitude  \\\n",
       "Unnamed: 0                                 1.000000         -0.065195   \n",
       "pickup_longitude                          -0.065195          1.000000   \n",
       "pickup_latitude                            0.065876         -0.999993   \n",
       "dropoff_longitude                         -0.064761          0.999998   \n",
       "dropoff_latitude                           0.065955         -0.999993   \n",
       "...                                             ...               ...   \n",
       "pickup_datetime_2015-01-04 09:17:47 UTC   -0.078118         -0.029184   \n",
       "pickup_datetime_2015-03-03 23:15:03 UTC   -0.185530         -0.029280   \n",
       "pickup_datetime_2015-03-25 08:58:35 UTC    0.170916         -0.029017   \n",
       "pickup_datetime_2015-05-07 19:52:06 UTC   -0.055072         -0.029384   \n",
       "pickup_datetime_2015-05-22 17:32:27 UTC   -0.254756         -0.029134   \n",
       "\n",
       "                                         pickup_latitude  dropoff_longitude  \\\n",
       "Unnamed: 0                                      0.065876          -0.064761   \n",
       "pickup_longitude                               -0.999993           0.999998   \n",
       "pickup_latitude                                 1.000000          -0.999994   \n",
       "dropoff_longitude                              -0.999994           1.000000   \n",
       "dropoff_latitude                                0.999993          -0.999991   \n",
       "...                                                  ...                ...   \n",
       "pickup_datetime_2015-01-04 09:17:47 UTC         0.028716          -0.029260   \n",
       "pickup_datetime_2015-03-03 23:15:03 UTC         0.028749          -0.029284   \n",
       "pickup_datetime_2015-03-25 08:58:35 UTC         0.029429          -0.029157   \n",
       "pickup_datetime_2015-05-07 19:52:06 UTC         0.028913          -0.029404   \n",
       "pickup_datetime_2015-05-22 17:32:27 UTC         0.029067          -0.029296   \n",
       "\n",
       "                                         dropoff_latitude  passenger_count  \\\n",
       "Unnamed: 0                                       0.065955         0.045267   \n",
       "pickup_longitude                                -0.999993        -0.116590   \n",
       "pickup_latitude                                  0.999993         0.117633   \n",
       "dropoff_longitude                               -0.999991        -0.116820   \n",
       "dropoff_latitude                                 1.000000         0.117627   \n",
       "...                                                   ...              ...   \n",
       "pickup_datetime_2015-01-04 09:17:47 UTC          0.029237        -0.082251   \n",
       "pickup_datetime_2015-03-03 23:15:03 UTC          0.028521         0.025974   \n",
       "pickup_datetime_2015-03-25 08:58:35 UTC          0.029116        -0.082251   \n",
       "pickup_datetime_2015-05-07 19:52:06 UTC          0.028568        -0.082251   \n",
       "pickup_datetime_2015-05-22 17:32:27 UTC          0.028686        -0.082251   \n",
       "\n",
       "                                         key_2009-01-10 22:43:36.0000007  \\\n",
       "Unnamed: 0                                                     -0.237150   \n",
       "pickup_longitude                                               -0.029329   \n",
       "pickup_latitude                                                 0.029144   \n",
       "dropoff_longitude                                              -0.029392   \n",
       "dropoff_latitude                                                0.028946   \n",
       "...                                                                  ...   \n",
       "pickup_datetime_2015-01-04 09:17:47 UTC                        -0.020408   \n",
       "pickup_datetime_2015-03-03 23:15:03 UTC                        -0.020408   \n",
       "pickup_datetime_2015-03-25 08:58:35 UTC                        -0.020408   \n",
       "pickup_datetime_2015-05-07 19:52:06 UTC                        -0.020408   \n",
       "pickup_datetime_2015-05-22 17:32:27 UTC                        -0.020408   \n",
       "\n",
       "                                         key_2009-02-12 17:52:18.0000001  \\\n",
       "Unnamed: 0                                                      0.172913   \n",
       "pickup_longitude                                               -0.029249   \n",
       "pickup_latitude                                                 0.029250   \n",
       "dropoff_longitude                                              -0.029174   \n",
       "dropoff_latitude                                                0.029594   \n",
       "...                                                                  ...   \n",
       "pickup_datetime_2015-01-04 09:17:47 UTC                        -0.020408   \n",
       "pickup_datetime_2015-03-03 23:15:03 UTC                        -0.020408   \n",
       "pickup_datetime_2015-03-25 08:58:35 UTC                        -0.020408   \n",
       "pickup_datetime_2015-05-07 19:52:06 UTC                        -0.020408   \n",
       "pickup_datetime_2015-05-22 17:32:27 UTC                        -0.020408   \n",
       "\n",
       "                                         key_2009-02-19 08:28:42.0000001  \\\n",
       "Unnamed: 0                                                      0.100186   \n",
       "pickup_longitude                                               -0.029161   \n",
       "pickup_latitude                                                 0.029645   \n",
       "dropoff_longitude                                              -0.029118   \n",
       "dropoff_latitude                                                0.029189   \n",
       "...                                                                  ...   \n",
       "pickup_datetime_2015-01-04 09:17:47 UTC                        -0.020408   \n",
       "pickup_datetime_2015-03-03 23:15:03 UTC                        -0.020408   \n",
       "pickup_datetime_2015-03-25 08:58:35 UTC                        -0.020408   \n",
       "pickup_datetime_2015-05-07 19:52:06 UTC                        -0.020408   \n",
       "pickup_datetime_2015-05-22 17:32:27 UTC                        -0.020408   \n",
       "\n",
       "                                         key_2009-02-28 15:54:57.0000002  ...  \\\n",
       "Unnamed: 0                                                     -0.167393  ...   \n",
       "pickup_longitude                                               -0.029427  ...   \n",
       "pickup_latitude                                                 0.028459  ...   \n",
       "dropoff_longitude                                              -0.029294  ...   \n",
       "dropoff_latitude                                                0.028601  ...   \n",
       "...                                                                  ...  ...   \n",
       "pickup_datetime_2015-01-04 09:17:47 UTC                        -0.020408  ...   \n",
       "pickup_datetime_2015-03-03 23:15:03 UTC                        -0.020408  ...   \n",
       "pickup_datetime_2015-03-25 08:58:35 UTC                        -0.020408  ...   \n",
       "pickup_datetime_2015-05-07 19:52:06 UTC                        -0.020408  ...   \n",
       "pickup_datetime_2015-05-22 17:32:27 UTC                        -0.020408  ...   \n",
       "\n",
       "                                         pickup_datetime_2014-02-18 14:26:00 UTC  \\\n",
       "Unnamed: 0                                                              0.224500   \n",
       "pickup_longitude                                                       -0.029189   \n",
       "pickup_latitude                                                         0.029050   \n",
       "dropoff_longitude                                                      -0.029443   \n",
       "dropoff_latitude                                                        0.029220   \n",
       "...                                                                          ...   \n",
       "pickup_datetime_2015-01-04 09:17:47 UTC                                -0.020408   \n",
       "pickup_datetime_2015-03-03 23:15:03 UTC                                -0.020408   \n",
       "pickup_datetime_2015-03-25 08:58:35 UTC                                -0.020408   \n",
       "pickup_datetime_2015-05-07 19:52:06 UTC                                -0.020408   \n",
       "pickup_datetime_2015-05-22 17:32:27 UTC                                -0.020408   \n",
       "\n",
       "                                         pickup_datetime_2014-04-02 14:58:32 UTC  \\\n",
       "Unnamed: 0                                                             -0.123847   \n",
       "pickup_longitude                                                       -0.029092   \n",
       "pickup_latitude                                                         0.029390   \n",
       "dropoff_longitude                                                      -0.029042   \n",
       "dropoff_latitude                                                        0.029490   \n",
       "...                                                                          ...   \n",
       "pickup_datetime_2015-01-04 09:17:47 UTC                                -0.020408   \n",
       "pickup_datetime_2015-03-03 23:15:03 UTC                                -0.020408   \n",
       "pickup_datetime_2015-03-25 08:58:35 UTC                                -0.020408   \n",
       "pickup_datetime_2015-05-07 19:52:06 UTC                                -0.020408   \n",
       "pickup_datetime_2015-05-22 17:32:27 UTC                                -0.020408   \n",
       "\n",
       "                                         pickup_datetime_2014-06-04 06:49:00 UTC  \\\n",
       "Unnamed: 0                                                             -0.100028   \n",
       "pickup_longitude                                                       -0.027298   \n",
       "pickup_latitude                                                         0.027193   \n",
       "dropoff_longitude                                                      -0.028079   \n",
       "dropoff_latitude                                                        0.028617   \n",
       "...                                                                          ...   \n",
       "pickup_datetime_2015-01-04 09:17:47 UTC                                -0.020408   \n",
       "pickup_datetime_2015-03-03 23:15:03 UTC                                -0.020408   \n",
       "pickup_datetime_2015-03-25 08:58:35 UTC                                -0.020408   \n",
       "pickup_datetime_2015-05-07 19:52:06 UTC                                -0.020408   \n",
       "pickup_datetime_2015-05-22 17:32:27 UTC                                -0.020408   \n",
       "\n",
       "                                         pickup_datetime_2014-08-28 17:47:00 UTC  \\\n",
       "Unnamed: 0                                                             -0.115141   \n",
       "pickup_longitude                                                       -0.028647   \n",
       "pickup_latitude                                                         0.029016   \n",
       "dropoff_longitude                                                      -0.029144   \n",
       "dropoff_latitude                                                        0.029248   \n",
       "...                                                                          ...   \n",
       "pickup_datetime_2015-01-04 09:17:47 UTC                                -0.020408   \n",
       "pickup_datetime_2015-03-03 23:15:03 UTC                                -0.020408   \n",
       "pickup_datetime_2015-03-25 08:58:35 UTC                                -0.020408   \n",
       "pickup_datetime_2015-05-07 19:52:06 UTC                                -0.020408   \n",
       "pickup_datetime_2015-05-22 17:32:27 UTC                                -0.020408   \n",
       "\n",
       "                                         pickup_datetime_2014-10-12 07:04:00 UTC  \\\n",
       "Unnamed: 0                                                              0.166859   \n",
       "pickup_longitude                                                       -0.029006   \n",
       "pickup_latitude                                                         0.028119   \n",
       "dropoff_longitude                                                      -0.028140   \n",
       "dropoff_latitude                                                        0.029481   \n",
       "...                                                                          ...   \n",
       "pickup_datetime_2015-01-04 09:17:47 UTC                                -0.020408   \n",
       "pickup_datetime_2015-03-03 23:15:03 UTC                                -0.020408   \n",
       "pickup_datetime_2015-03-25 08:58:35 UTC                                -0.020408   \n",
       "pickup_datetime_2015-05-07 19:52:06 UTC                                -0.020408   \n",
       "pickup_datetime_2015-05-22 17:32:27 UTC                                -0.020408   \n",
       "\n",
       "                                         pickup_datetime_2015-01-04 09:17:47 UTC  \\\n",
       "Unnamed: 0                                                             -0.078118   \n",
       "pickup_longitude                                                       -0.029184   \n",
       "pickup_latitude                                                         0.028716   \n",
       "dropoff_longitude                                                      -0.029260   \n",
       "dropoff_latitude                                                        0.029237   \n",
       "...                                                                          ...   \n",
       "pickup_datetime_2015-01-04 09:17:47 UTC                                 1.000000   \n",
       "pickup_datetime_2015-03-03 23:15:03 UTC                                -0.020408   \n",
       "pickup_datetime_2015-03-25 08:58:35 UTC                                -0.020408   \n",
       "pickup_datetime_2015-05-07 19:52:06 UTC                                -0.020408   \n",
       "pickup_datetime_2015-05-22 17:32:27 UTC                                -0.020408   \n",
       "\n",
       "                                         pickup_datetime_2015-03-03 23:15:03 UTC  \\\n",
       "Unnamed: 0                                                             -0.185530   \n",
       "pickup_longitude                                                       -0.029280   \n",
       "pickup_latitude                                                         0.028749   \n",
       "dropoff_longitude                                                      -0.029284   \n",
       "dropoff_latitude                                                        0.028521   \n",
       "...                                                                          ...   \n",
       "pickup_datetime_2015-01-04 09:17:47 UTC                                -0.020408   \n",
       "pickup_datetime_2015-03-03 23:15:03 UTC                                 1.000000   \n",
       "pickup_datetime_2015-03-25 08:58:35 UTC                                -0.020408   \n",
       "pickup_datetime_2015-05-07 19:52:06 UTC                                -0.020408   \n",
       "pickup_datetime_2015-05-22 17:32:27 UTC                                -0.020408   \n",
       "\n",
       "                                         pickup_datetime_2015-03-25 08:58:35 UTC  \\\n",
       "Unnamed: 0                                                              0.170916   \n",
       "pickup_longitude                                                       -0.029017   \n",
       "pickup_latitude                                                         0.029429   \n",
       "dropoff_longitude                                                      -0.029157   \n",
       "dropoff_latitude                                                        0.029116   \n",
       "...                                                                          ...   \n",
       "pickup_datetime_2015-01-04 09:17:47 UTC                                -0.020408   \n",
       "pickup_datetime_2015-03-03 23:15:03 UTC                                -0.020408   \n",
       "pickup_datetime_2015-03-25 08:58:35 UTC                                 1.000000   \n",
       "pickup_datetime_2015-05-07 19:52:06 UTC                                -0.020408   \n",
       "pickup_datetime_2015-05-22 17:32:27 UTC                                -0.020408   \n",
       "\n",
       "                                         pickup_datetime_2015-05-07 19:52:06 UTC  \\\n",
       "Unnamed: 0                                                             -0.055072   \n",
       "pickup_longitude                                                       -0.029384   \n",
       "pickup_latitude                                                         0.028913   \n",
       "dropoff_longitude                                                      -0.029404   \n",
       "dropoff_latitude                                                        0.028568   \n",
       "...                                                                          ...   \n",
       "pickup_datetime_2015-01-04 09:17:47 UTC                                -0.020408   \n",
       "pickup_datetime_2015-03-03 23:15:03 UTC                                -0.020408   \n",
       "pickup_datetime_2015-03-25 08:58:35 UTC                                -0.020408   \n",
       "pickup_datetime_2015-05-07 19:52:06 UTC                                 1.000000   \n",
       "pickup_datetime_2015-05-22 17:32:27 UTC                                -0.020408   \n",
       "\n",
       "                                         pickup_datetime_2015-05-22 17:32:27 UTC  \n",
       "Unnamed: 0                                                             -0.254756  \n",
       "pickup_longitude                                                       -0.029134  \n",
       "pickup_latitude                                                         0.029067  \n",
       "dropoff_longitude                                                      -0.029296  \n",
       "dropoff_latitude                                                        0.028686  \n",
       "...                                                                          ...  \n",
       "pickup_datetime_2015-01-04 09:17:47 UTC                                -0.020408  \n",
       "pickup_datetime_2015-03-03 23:15:03 UTC                                -0.020408  \n",
       "pickup_datetime_2015-03-25 08:58:35 UTC                                -0.020408  \n",
       "pickup_datetime_2015-05-07 19:52:06 UTC                                -0.020408  \n",
       "pickup_datetime_2015-05-22 17:32:27 UTC                                 1.000000  \n",
       "\n",
       "[106 rows x 106 columns]"
      ]
     },
     "execution_count": 70,
     "metadata": {},
     "output_type": "execute_result"
    }
   ],
   "source": [
    "X3.corr()"
   ]
  },
  {
   "cell_type": "code",
   "execution_count": 61,
   "id": "96292fb4",
   "metadata": {},
   "outputs": [
    {
     "data": {
      "text/plain": [
       "<AxesSubplot:>"
      ]
     },
     "execution_count": 61,
     "metadata": {},
     "output_type": "execute_result"
    }
   ],
   "source": [
    "sb.heatmap(X3.corr())"
   ]
  },
  {
   "cell_type": "code",
   "execution_count": 74,
   "id": "7f76866f",
   "metadata": {},
   "outputs": [],
   "source": [
    "from sklearn.model_selection import train_test_split\n",
    "xtrain,xtest,ytrain,ytest=train_test_split(X3,Y,test_size=0.2,random_state=21)\n"
   ]
  },
  {
   "cell_type": "code",
   "execution_count": 75,
   "id": "956f6294",
   "metadata": {},
   "outputs": [],
   "source": [
    "from sklearn.linear_model import LinearRegression\n",
    "lm = LinearRegression()"
   ]
  },
  {
   "cell_type": "code",
   "execution_count": 76,
   "id": "a37d80bd",
   "metadata": {},
   "outputs": [
    {
     "data": {
      "text/plain": [
       "3.7508524511655246"
      ]
     },
     "execution_count": 76,
     "metadata": {},
     "output_type": "execute_result"
    }
   ],
   "source": [
    "model = lm.fit(xtrain,ytrain)\n",
    "pred = model.predict(xtest)\n",
    "from sklearn.metrics import mean_absolute_error\n",
    "mean_absolute_error(ytest,pred)"
   ]
  },
  {
   "cell_type": "code",
   "execution_count": 87,
   "id": "4c13f7ea",
   "metadata": {},
   "outputs": [],
   "source": [
    "from sklearn.ensemble import RandomForestRegressor\n",
    "rf = RandomForestRegressor()"
   ]
  },
  {
   "cell_type": "code",
   "execution_count": 90,
   "id": "d7da4db0",
   "metadata": {},
   "outputs": [
    {
     "name": "stderr",
     "output_type": "stream",
     "text": [
      "/var/folders/x5/kcsf7m6131lg028fwqqfszqw0000gn/T/ipykernel_5199/945725248.py:1: DataConversionWarning: A column-vector y was passed when a 1d array was expected. Please change the shape of y to (n_samples,), for example using ravel().\n",
      "  model2 = rf.fit(xtrain,ytrain)\n"
     ]
    },
    {
     "data": {
      "text/plain": [
       "RandomForestRegressor(n_estimators=array([19.882,  7.084,  6.671, 10.748, 10.327,  8.462,  6.957,  5.761,\n",
       "        6.197,  6.734]))"
      ]
     },
     "execution_count": 90,
     "metadata": {},
     "output_type": "execute_result"
    }
   ],
   "source": [
    "model2 = rf.fit(xtrain,ytrain)\n",
    "pred = model2.predict(xtest)\n",
    "RandomForestRegressor(pred)"
   ]
  },
  {
   "cell_type": "code",
   "execution_count": 92,
   "id": "94027a41",
   "metadata": {},
   "outputs": [
    {
     "data": {
      "text/plain": [
       "array([19.882,  7.084,  6.671, 10.748, 10.327,  8.462,  6.957,  5.761,\n",
       "        6.197,  6.734])"
      ]
     },
     "execution_count": 92,
     "metadata": {},
     "output_type": "execute_result"
    }
   ],
   "source": [
    "y_pred =rf.predict(xtest)\n",
    "y_pred"
   ]
  },
  {
   "cell_type": "code",
   "execution_count": 93,
   "id": "9b031d76",
   "metadata": {},
   "outputs": [
    {
     "data": {
      "text/plain": [
       "-2.69329832450526"
      ]
     },
     "execution_count": 93,
     "metadata": {},
     "output_type": "execute_result"
    }
   ],
   "source": [
    "from sklearn.metrics import r2_score\n",
    "r2_score(ytest,y_pred) # random forest regressor"
   ]
  },
  {
   "cell_type": "code",
   "execution_count": 96,
   "id": "bf6f1008",
   "metadata": {},
   "outputs": [
    {
     "data": {
      "text/plain": [
       "-2.69329832450526"
      ]
     },
     "execution_count": 96,
     "metadata": {},
     "output_type": "execute_result"
    }
   ],
   "source": [
    "r2_score(ytest,pred) # linear regressor"
   ]
  },
  {
   "cell_type": "code",
   "execution_count": 98,
   "id": "7514c41f",
   "metadata": {},
   "outputs": [
    {
     "data": {
      "text/plain": [
       "40.1624033"
      ]
     },
     "execution_count": 98,
     "metadata": {},
     "output_type": "execute_result"
    }
   ],
   "source": [
    "from sklearn.metrics import  mean_squared_error\n",
    "mean_squared_error(ytest,y_pred) # random forest regressor"
   ]
  },
  {
   "cell_type": "code",
   "execution_count": 99,
   "id": "ea3e63e0",
   "metadata": {},
   "outputs": [
    {
     "data": {
      "text/plain": [
       "40.1624033"
      ]
     },
     "execution_count": 99,
     "metadata": {},
     "output_type": "execute_result"
    }
   ],
   "source": [
    "mean_squared_error(ytest,pred) # linear regrassion"
   ]
  },
  {
   "cell_type": "code",
   "execution_count": null,
   "id": "2aeba257",
   "metadata": {},
   "outputs": [],
   "source": []
  }
 ],
 "metadata": {
  "kernelspec": {
   "display_name": "Python 3 (ipykernel)",
   "language": "python",
   "name": "python3"
  },
  "language_info": {
   "codemirror_mode": {
    "name": "ipython",
    "version": 3
   },
   "file_extension": ".py",
   "mimetype": "text/x-python",
   "name": "python",
   "nbconvert_exporter": "python",
   "pygments_lexer": "ipython3",
   "version": "3.9.13"
  }
 },
 "nbformat": 4,
 "nbformat_minor": 5
}
